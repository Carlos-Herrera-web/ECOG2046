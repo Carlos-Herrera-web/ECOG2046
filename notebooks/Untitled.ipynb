{
 "cells": [
  {
   "cell_type": "code",
   "execution_count": 66,
   "metadata": {},
   "outputs": [],
   "source": [
    "import pandas as pd\n",
    "import numpy as np \n",
    "import statsmodels.api as sm\n",
    "from statsmodels.tsa.arima_process import arma_generate_sample\n",
    "import matplotlib.pyplot as plt \n",
    "\n",
    "%matplotlib inline\n",
    "from scipy import stats\n",
    "from statsmodels.graphics.api import qqplot"
   ]
  },
  {
   "cell_type": "code",
   "execution_count": 113,
   "metadata": {},
   "outputs": [],
   "source": [
    "n =100\n",
    "\n",
    "y = np.zeros(n) \n",
    "x = np.zeros(n) \n",
    "\n",
    "for i in range(0,n):\n",
    "    \n",
    "    e = np.random.normal(0, 2, 1)\n",
    "    \n",
    "#     y[i] = 1.5 + y[i - 1] + e\n",
    "    \n",
    "    x[i] = i + e"
   ]
  },
  {
   "cell_type": "code",
   "execution_count": 114,
   "metadata": {},
   "outputs": [],
   "source": [
    "y=x"
   ]
  },
  {
   "cell_type": "code",
   "execution_count": 84,
   "metadata": {},
   "outputs": [
    {
     "data": {
      "text/plain": [
       "<matplotlib.axes._subplots.AxesSubplot at 0x20a28c4b148>"
      ]
     },
     "execution_count": 84,
     "metadata": {},
     "output_type": "execute_result"
    },
    {
     "data": {
      "image/png": "[encoded data removed]",
      "text/plain": [
       "<Figure size 432x288 with 1 Axes>"
      ]
     },
     "metadata": {
      "needs_background": "light"
     },
     "output_type": "display_data"
    }
   ],
   "source": [
    "y=pd.Series(y)\n",
    "dy=y.diff(periods=1)\n",
    "y.plot()"
   ]
  },
  {
   "cell_type": "code",
   "execution_count": 115,
   "metadata": {},
   "outputs": [],
   "source": [
    "df=pd.DataFrame(y)\n",
    "df.index = pd.period_range('2002-01-01', '2010-04-01', freq='M')\n",
    "df=df.rename(columns={0:'y'})\n",
    "y =df['y']"
   ]
  },
  {
   "cell_type": "code",
   "execution_count": 116,
   "metadata": {},
   "outputs": [
    {
     "data": {
      "text/html": [
       "<div>\n",
       "<style scoped>\n",
       "    .dataframe tbody tr th:only-of-type {\n",
       "        vertical-align: middle;\n",
       "    }\n",
       "\n",
       "    .dataframe tbody tr th {\n",
       "        vertical-align: top;\n",
       "    }\n",
       "\n",
       "    .dataframe thead th {\n",
       "        text-align: right;\n",
       "    }\n",
       "</style>\n",
       "<table border=\"1\" class=\"dataframe\">\n",
       "  <thead>\n",
       "    <tr style=\"text-align: right;\">\n",
       "      <th></th>\n",
       "      <th>y</th>\n",
       "    </tr>\n",
       "  </thead>\n",
       "  <tbody>\n",
       "    <tr>\n",
       "      <th>2002-01</th>\n",
       "      <td>1.393818</td>\n",
       "    </tr>\n",
       "    <tr>\n",
       "      <th>2002-02</th>\n",
       "      <td>2.115928</td>\n",
       "    </tr>\n",
       "    <tr>\n",
       "      <th>2002-03</th>\n",
       "      <td>4.349357</td>\n",
       "    </tr>\n",
       "    <tr>\n",
       "      <th>2002-04</th>\n",
       "      <td>3.504709</td>\n",
       "    </tr>\n",
       "    <tr>\n",
       "      <th>2002-05</th>\n",
       "      <td>4.432536</td>\n",
       "    </tr>\n",
       "    <tr>\n",
       "      <th>...</th>\n",
       "      <td>...</td>\n",
       "    </tr>\n",
       "    <tr>\n",
       "      <th>2009-12</th>\n",
       "      <td>91.168202</td>\n",
       "    </tr>\n",
       "    <tr>\n",
       "      <th>2010-01</th>\n",
       "      <td>95.875043</td>\n",
       "    </tr>\n",
       "    <tr>\n",
       "      <th>2010-02</th>\n",
       "      <td>98.079755</td>\n",
       "    </tr>\n",
       "    <tr>\n",
       "      <th>2010-03</th>\n",
       "      <td>96.070269</td>\n",
       "    </tr>\n",
       "    <tr>\n",
       "      <th>2010-04</th>\n",
       "      <td>98.782708</td>\n",
       "    </tr>\n",
       "  </tbody>\n",
       "</table>\n",
       "<p>100 rows × 1 columns</p>\n",
       "</div>"
      ],
      "text/plain": [
       "                 y\n",
       "2002-01   1.393818\n",
       "2002-02   2.115928\n",
       "2002-03   4.349357\n",
       "2002-04   3.504709\n",
       "2002-05   4.432536\n",
       "...            ...\n",
       "2009-12  91.168202\n",
       "2010-01  95.875043\n",
       "2010-02  98.079755\n",
       "2010-03  96.070269\n",
       "2010-04  98.782708\n",
       "\n",
       "[100 rows x 1 columns]"
      ]
     },
     "execution_count": 116,
     "metadata": {},
     "output_type": "execute_result"
    }
   ],
   "source": [
    "df"
   ]
  },
  {
   "cell_type": "code",
   "execution_count": 51,
   "metadata": {},
   "outputs": [],
   "source": [
    "df.to_csv(r'y.csv')"
   ]
  },
  {
   "cell_type": "code",
   "execution_count": 122,
   "metadata": {},
   "outputs": [
    {
     "name": "stdout",
     "output_type": "stream",
     "text": [
      "                               SARIMAX Results                                \n",
      "==============================================================================\n",
      "Dep. Variable:                      y   No. Observations:                  100\n",
      "Model:               SARIMAX(1, 0, 0)   Log Likelihood                -251.244\n",
      "Date:                Mon, 29 Jun 2020   AIC                            508.488\n",
      "Time:                        14:36:58   BIC                            516.303\n",
      "Sample:                    01-31-2002   HQIC                           511.651\n",
      "                         - 04-30-2010                                         \n",
      "Covariance Type:                  opg                                         \n",
      "==============================================================================\n",
      "                 coef    std err          z      P>|z|      [0.025      0.975]\n",
      "------------------------------------------------------------------------------\n",
      "intercept      0.0999      0.506      0.197      0.844      -0.893       1.092\n",
      "ar.L1          0.9980      0.011     94.656      0.000       0.977       1.019\n",
      "sigma2         8.4299      1.382      6.100      0.000       5.722      11.138\n",
      "===================================================================================\n",
      "Ljung-Box (Q):                       68.00   Jarque-Bera (JB):                 0.63\n",
      "Prob(Q):                              0.00   Prob(JB):                         0.73\n",
      "Heteroskedasticity (H):               0.88   Skew:                            -0.09\n",
      "Prob(H) (two-sided):                  0.71   Kurtosis:                         2.65\n",
      "===================================================================================\n",
      "\n",
      "Warnings:\n",
      "[1] Covariance matrix calculated using the outer product of gradients (complex-step).\n"
     ]
    }
   ],
   "source": [
    "# Generar el modelo\n",
    "model = sm.tsa.SARIMAX(y, order=(1,0,0), trend='c')\n",
    "\n",
    "# Estimar los parametros del modelo\n",
    "results = model.fit()\n",
    "\n",
    "print(results.summary())"
   ]
  },
  {
   "cell_type": "code",
   "execution_count": 123,
   "metadata": {},
   "outputs": [
    {
     "name": "stdout",
     "output_type": "stream",
     "text": [
      "           2008-08    2008-09    2008-10    2008-11    2008-12    2009-01  \\\n",
      "2008-09  78.658655        NaN        NaN        NaN        NaN        NaN   \n",
      "2008-10  78.545172  79.819102        NaN        NaN        NaN        NaN   \n",
      "2008-11  78.432022  79.702213  79.702213        NaN        NaN        NaN   \n",
      "2008-12        NaN  79.585666  79.585666  79.585666        NaN        NaN   \n",
      "2009-01        NaN        NaN  79.469462  79.469462  79.469462        NaN   \n",
      "2009-02        NaN        NaN        NaN  79.353599  79.353599  79.353599   \n",
      "2009-03        NaN        NaN        NaN        NaN  79.238076  79.238076   \n",
      "2009-04        NaN        NaN        NaN        NaN        NaN  79.122892   \n",
      "2009-05        NaN        NaN        NaN        NaN        NaN        NaN   \n",
      "2009-06        NaN        NaN        NaN        NaN        NaN        NaN   \n",
      "\n",
      "           2009-02  \n",
      "2008-09        NaN  \n",
      "2008-10        NaN  \n",
      "2008-11        NaN  \n",
      "2008-12        NaN  \n",
      "2009-01        NaN  \n",
      "2009-02        NaN  \n",
      "2009-03  79.238076  \n",
      "2009-04  79.122892  \n",
      "2009-05  79.008046  \n",
      "2009-06        NaN  \n"
     ]
    }
   ],
   "source": [
    "training_obs = int(len(y) * 0.8)\n",
    "\n",
    "training_y = y[:training_obs]\n",
    "\n",
    "# Establecer el numero de pronosticos\n",
    "nforecasts = 3\n",
    "forecasts = {}\n",
    "\n",
    "# Obtener el numero de observaciones del training initial\n",
    "nobs = len(y)\n",
    "n_init_training = int(nobs * 0.8)\n",
    "\n",
    "# Crear el model para estimar con la muestra del initial training sample\n",
    "init_training_y = y.iloc[:n_init_training]\n",
    "mod = sm.tsa.SARIMAX(training_y, order=(1, 0, 0), trend='c')\n",
    "res = mod.fit()\n",
    "\n",
    "# Guardar los pronosticos inicialest\n",
    "forecasts[training_y.index[-1]] = res.forecast(steps=nforecasts)\n",
    "\n",
    "# Realizar el procedimiento al resto de la muestra\n",
    "for t in range(n_init_training, nobs):\n",
    "    # Actualizar los resultados mediante el agregar una observacion adicional\n",
    "    updated_y = y.iloc[t:t+1]\n",
    "    res = res.append(updated_y, refit=False)\n",
    "\n",
    "    # Guardar los nuevos resultados\n",
    "    forecasts[updated_y.index[0]] = res.forecast(steps=nforecasts)\n",
    "\n",
    "# Combinar todos los pronosticos dentro de un dataframe\n",
    "forecasts = pd.concat(forecasts, axis=1)\n",
    "\n",
    "print(forecasts.iloc[:10, :7])\n",
    "# print(forecasts)"
   ]
  },
  {
   "cell_type": "code",
   "execution_count": 124,
   "metadata": {},
   "outputs": [
    {
     "name": "stdout",
     "output_type": "stream",
     "text": [
      "          2008-08   2008-09   2008-10   2008-11   2008-12\n",
      "2008-09  1.277681       NaN       NaN       NaN       NaN\n",
      "2008-10  4.454412  3.180481       NaN       NaN       NaN\n",
      "2008-11  1.590270  0.320079  0.320079       NaN       NaN\n",
      "2008-12       NaN  7.818054  7.818054  7.818054       NaN\n",
      "2009-01       NaN       NaN  5.843096  5.843096  5.843096\n",
      "2009-02       NaN       NaN       NaN  6.893065  6.893065\n",
      "2009-03       NaN       NaN       NaN       NaN  5.033412\n",
      "2009-04       NaN       NaN       NaN       NaN       NaN\n",
      "2009-05       NaN       NaN       NaN       NaN       NaN\n",
      "2009-06       NaN       NaN       NaN       NaN       NaN\n"
     ]
    }
   ],
   "source": [
    "# Construir los errores de pronosticos\n",
    "forecast_errors = forecasts.apply(lambda column: y - column).reindex(forecasts.index)\n",
    "\n",
    "print(forecast_errors.iloc[:10, :5])"
   ]
  },
  {
   "cell_type": "code",
   "execution_count": 125,
   "metadata": {},
   "outputs": [
    {
     "name": "stdout",
     "output_type": "stream",
     "text": [
      "          2008-08   2008-09   2008-10   2008-11   2008-12\n",
      "horizon                                                  \n",
      "1        1.277681  3.180481  0.320079  7.818054  5.843096\n",
      "2        4.454412  0.320079  7.818054  5.843096  6.893065\n",
      "3        1.590270  7.818054  5.843096  6.893065  5.033412\n"
     ]
    }
   ],
   "source": [
    "# Reindex los pronosticos en funcion de los horizonte\n",
    "def flatten(column):\n",
    "    return column.dropna().reset_index(drop=True)\n",
    "\n",
    "forecast_horizon = forecast_errors.apply(flatten)\n",
    "forecast_horizon.index = (forecast_horizon.index + 1).rename('horizon')\n",
    "\n",
    "print(forecast_horizon.iloc[:3, :5])"
   ]
  },
  {
   "cell_type": "code",
   "execution_count": 126,
   "metadata": {},
   "outputs": [
    {
     "name": "stdout",
     "output_type": "stream",
     "text": [
      "horizon\n",
      "1    12.284470\n",
      "2    12.620488\n",
      "3    12.928957\n",
      "dtype: float64\n"
     ]
    }
   ],
   "source": [
    "# Calcular la raiz del mean square error\n",
    "rmse = (forecast_horizon**2).mean(axis=1)**0.5\n",
    "\n",
    "print(rmse)"
   ]
  },
  {
   "cell_type": "code",
   "execution_count": 53,
   "metadata": {},
   "outputs": [
    {
     "name": "stderr",
     "output_type": "stream",
     "text": [
      "C:\\Users\\lfsanche\\Anaconda3\\lib\\site-packages\\statsmodels\\tsa\\statespace\\sarimax.py:963: UserWarning: Non-stationary starting autoregressive parameters found. Using zeros as starting parameters.\n",
      "  warn('Non-stationary starting autoregressive parameters'\n"
     ]
    },
    {
     "name": "stdout",
     "output_type": "stream",
     "text": [
      "                               SARIMAX Results                                \n",
      "==============================================================================\n",
      "Dep. Variable:                      y   No. Observations:                  100\n",
      "Model:               SARIMAX(1, 0, 0)   Log Likelihood                -239.904\n",
      "Date:                Mon, 29 Jun 2020   AIC                            485.808\n",
      "Time:                        13:47:27   BIC                            493.624\n",
      "Sample:                             0   HQIC                           488.971\n",
      "                                - 100                                         \n",
      "Covariance Type:                  opg                                         \n",
      "==============================================================================\n",
      "                 coef    std err          z      P>|z|      [0.025      0.975]\n",
      "------------------------------------------------------------------------------\n",
      "intercept      0.0416      0.433      0.096      0.923      -0.806       0.890\n",
      "ar.L1          0.9995      0.006    180.123      0.000       0.989       1.010\n",
      "sigma2         6.6304      1.017      6.522      0.000       4.638       8.623\n",
      "===================================================================================\n",
      "Ljung-Box (Q):                       42.33   Jarque-Bera (JB):                 0.67\n",
      "Prob(Q):                              0.37   Prob(JB):                         0.71\n",
      "Heteroskedasticity (H):               1.08   Skew:                             0.11\n",
      "Prob(H) (two-sided):                  0.83   Kurtosis:                         2.67\n",
      "===================================================================================\n",
      "\n",
      "Warnings:\n",
      "[1] Covariance matrix calculated using the outer product of gradients (complex-step).\n"
     ]
    }
   ],
   "source": [
    "# Generar el modelo\n",
    "model = sm.tsa.SARIMAX(y, order=(1,0,0), trend='c')\n",
    "\n",
    "# Estimar los parametros del modelo\n",
    "results = model.fit()\n",
    "\n",
    "print(results.summary())"
   ]
  },
  {
   "cell_type": "code",
   "execution_count": null,
   "metadata": {},
   "outputs": [],
   "source": [
    "fcast_res = results.get_forecast(steps=12)\n",
    "print(fcast_res.summary_frame())"
   ]
  },
  {
   "cell_type": "code",
   "execution_count": null,
   "metadata": {},
   "outputs": [],
   "source": [
    "# Generar el modelo\n",
    "model = sm.tsa.SARIMAX(y, order=(1,0,0), trend='ct')\n",
    "\n",
    "# Estimar los parametros del modelo\n",
    "results = model.fit()\n",
    "\n",
    "print(results.summary())"
   ]
  },
  {
   "cell_type": "code",
   "execution_count": null,
   "metadata": {},
   "outputs": [],
   "source": [
    "fcast_results = results.get_forecast(steps=12)\n",
    "print(fcast_results.summary_frame())"
   ]
  },
  {
   "cell_type": "code",
   "execution_count": null,
   "metadata": {},
   "outputs": [],
   "source": []
  }
 ],
 "metadata": {
  "kernelspec": {
   "display_name": "Python 3",
   "language": "python",
   "name": "python3"
  },
  "language_info": {
   "codemirror_mode": {
    "name": "ipython",
    "version": 3
   },
   "file_extension": ".py",
   "mimetype": "text/x-python",
   "name": "python",
   "nbconvert_exporter": "python",
   "pygments_lexer": "ipython3",
   "version": "3.7.6"
  },
  "toc": {
   "base_numbering": 1,
   "nav_menu": {},
   "number_sections": true,
   "sideBar": true,
   "skip_h1_title": false,
   "title_cell": "Table of Contents",
   "title_sidebar": "Contents",
   "toc_cell": false,
   "toc_position": {},
   "toc_section_display": true,
   "toc_window_display": false
  },
  "varInspector": {
   "cols": {
    "lenName": 16,
    "lenType": 16,
    "lenVar": 40
   },
   "kernels_config": {
    "python": {
     "delete_cmd_postfix": "",
     "delete_cmd_prefix": "del ",
     "library": "var_list.py",
     "varRefreshCmd": "print(var_dic_list())"
    },
    "r": {
     "delete_cmd_postfix": ") ",
     "delete_cmd_prefix": "rm(",
     "library": "var_list.r",
     "varRefreshCmd": "cat(var_dic_list()) "
    }
   },
   "types_to_exclude": [
    "module",
    "function",
    "builtin_function_or_method",
    "instance",
    "_Feature"
   ],
   "window_display": false
  }
 },
 "nbformat": 4,
 "nbformat_minor": 4
}
