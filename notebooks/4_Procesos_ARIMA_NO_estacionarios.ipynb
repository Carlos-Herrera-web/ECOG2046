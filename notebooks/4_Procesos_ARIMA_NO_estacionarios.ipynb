{
 "cells": [
  {
   "cell_type": "code",
   "execution_count": 1,
   "metadata": {},
   "outputs": [],
   "source": [
    "import pandas as pd\n",
    "import statsmodels.api as sm\n",
    "from statsmodels.tsa.arima_process import arma_generate_sample\n",
    "import matplotlib.pyplot as plt \n",
    "\n",
    "\n",
    "%matplotlib inline\n",
    "from scipy import stats\n",
    "from statsmodels.graphics.api import qqplot"
   ]
  },
  {
   "cell_type": "markdown",
   "metadata": {},
   "source": [
    "# Introduccion\n",
    "\n",
    "Hemos estudiado series temporales que no exhibieron un crecimiento a largo plazo, es decir no tienen una media constante. Sin embargo, muchas series de tiempo económicas y financieras no tienen una media constante. Los ejemplos incluyen: el PIB y el IPC de Ecuador.\n",
    "\n",
    "Los modelos ARIMA no estacionarios incluyen la \"caminata aleatoria\" y la \"caminata aleatoria con deriva\". Modelos univariados simples como estos han demostrado ser herramientas de pronóstico muy poderosas. "
   ]
  },
  {
   "cell_type": "markdown",
   "metadata": {},
   "source": [
    "# Diferenciacion\n",
    "\n",
    "La diferenciacon de una serie es un concepto similar al de la derivada. Basicamente, la diferenciacion es el cambio de una serie de un periodo a otro $\\Delta x_t= x_t-x_{t-1}$\n",
    "\n",
    "Si una seria necesita ser diferenciada para convertirla en estacionaria, decimos que la series es integrada de orden 1, $I(1)$. Si una serie necesita ser diferenciada dos veces para ser estacionaria, decimos que es integrada de orden 2, $I(2)$\n",
    "\n",
    "Si una serie temporal X crece, no es estacionaria. Si su primera diferencia es estacionaria, entonces decimos que está \"integrada\". La diferenciación no elimina todas las no estacionarias; solo elimina la no estacionariedad asociada con la integración.\n",
    "\n",
    "Podemos construir fácilmente en el marco ARMA (p, q) que utilizamos para los procesos estacionarios para incluir variables I (d). Los dos se pueden combinar para hacer modelos ARIMA (p, d, q). Realmente, hay pocas novedades aquí con respecto a la estimación. Simplemente necesitamos averiguar si diferenciar una variable un pequeño número de veces hace que una variable sea estacionaria. Luego procedemos con la parte ARMA (p, q) del análisis.\n",
    "A continuación, exploraremos cómo la diferenciación afecta tres procesos no estacionarios diferentes: una caminata aleatoria, una caminata aleatoria con deriva y un modelo de tendencia determinista. Veremos que la dificultad radica en determinar si la variable es estacionaria después de las diferencias \"d\". Las diferencias erróneas se suman a nuestros problemas, por lo que no es una solución automática y gratuita."
   ]
  },
  {
   "cell_type": "code",
   "execution_count": 2,
   "metadata": {},
   "outputs": [],
   "source": [
    "# Importar data\n",
    "df1 = pd.read_csv(r'CTASTRIM110.csv',header=0, parse_dates=True,squeeze=True)\n",
    "df1.index = pd.period_range('2000Q1', '2019Q4', freq='Q')"
   ]
  },
  {
   "cell_type": "code",
   "execution_count": 3,
   "metadata": {},
   "outputs": [],
   "source": [
    "# Definir varibles\n",
    "dpib = df1['pib'].diff(periods=1)\n",
    "pib = df1['pib']"
   ]
  },
  {
   "cell_type": "code",
   "execution_count": 4,
   "metadata": {},
   "outputs": [
    {
     "data": {
      "text/plain": [
       "Text(0, 0.5, 'Miles de US dólares, 2007=100')"
      ]
     },
     "execution_count": 4,
     "metadata": {},
     "output_type": "execute_result"
    },
    {
     "data": {
      "image/png": "[encoded data removed]",
      "text/plain": [
       "<Figure size 1080x360 with 1 Axes>"
      ]
     },
     "metadata": {
      "needs_background": "light"
     },
     "output_type": "display_data"
    }
   ],
   "source": [
    "pib.plot(figsize=(15, 5),c='k')\n",
    "plt.title(' Ecuador: PIB 2000q1 - 2019q4', c='b') \n",
    "plt.ylabel('Miles de US dólares, 2007=100') \n"
   ]
  },
  {
   "cell_type": "code",
   "execution_count": 5,
   "metadata": {},
   "outputs": [
    {
     "name": "stdout",
     "output_type": "stream",
     "text": [
      "                               SARIMAX Results                                \n",
      "==============================================================================\n",
      "Dep. Variable:                    pib   No. Observations:                   80\n",
      "Model:               SARIMAX(1, 1, 0)   Log Likelihood               -1054.396\n",
      "Date:                Tue, 23 Jun 2020   AIC                           2114.791\n",
      "Time:                        13:31:01   BIC                           2121.899\n",
      "Sample:                    03-31-2000   HQIC                          2117.639\n",
      "                         - 12-31-2019                                         \n",
      "Covariance Type:                  opg                                         \n",
      "==============================================================================\n",
      "                 coef    std err          z      P>|z|      [0.025      0.975]\n",
      "------------------------------------------------------------------------------\n",
      "intercept   6.843e+04   1.45e+04      4.711      0.000       4e+04    9.69e+04\n",
      "ar.L1          0.0237      0.021      1.145      0.252      -0.017       0.064\n",
      "sigma2      1.874e+10      0.011   1.65e+12      0.000    1.87e+10    1.87e+10\n",
      "===================================================================================\n",
      "Ljung-Box (Q):                       42.54   Jarque-Bera (JB):                 1.31\n",
      "Prob(Q):                              0.36   Prob(JB):                         0.52\n",
      "Heteroskedasticity (H):               1.72   Skew:                            -0.32\n",
      "Prob(H) (two-sided):                  0.17   Kurtosis:                         3.02\n",
      "===================================================================================\n",
      "\n",
      "Warnings:\n",
      "[1] Covariance matrix calculated using the outer product of gradients (complex-step).\n",
      "[2] Covariance matrix is singular or near-singular, with condition number 1.49e+28. Standard errors may be unstable.\n"
     ]
    }
   ],
   "source": [
    "# Generar el modelo\n",
    "model = sm.tsa.SARIMAX(pib, order=(1,1,0), trend='c')\n",
    "\n",
    "# Estimar los parametros del modelo\n",
    "results = model.fit()\n",
    "\n",
    "print(results.summary())"
   ]
  },
  {
   "cell_type": "code",
   "execution_count": null,
   "metadata": {},
   "outputs": [],
   "source": []
  },
  {
   "cell_type": "code",
   "execution_count": null,
   "metadata": {},
   "outputs": [],
   "source": []
  },
  {
   "cell_type": "code",
   "execution_count": null,
   "metadata": {},
   "outputs": [],
   "source": []
  }
 ],
 "metadata": {
  "kernelspec": {
   "display_name": "Python 3",
   "language": "python",
   "name": "python3"
  },
  "language_info": {
   "codemirror_mode": {
    "name": "ipython",
    "version": 3
   },
   "file_extension": ".py",
   "mimetype": "text/x-python",
   "name": "python",
   "nbconvert_exporter": "python",
   "pygments_lexer": "ipython3",
   "version": "3.7.6"
  },
  "toc": {
   "base_numbering": 1,
   "nav_menu": {},
   "number_sections": true,
   "sideBar": true,
   "skip_h1_title": false,
   "title_cell": "Table of Contents",
   "title_sidebar": "Contents",
   "toc_cell": false,
   "toc_position": {},
   "toc_section_display": true,
   "toc_window_display": false
  },
  "varInspector": {
   "cols": {
    "lenName": 16,
    "lenType": 16,
    "lenVar": 40
   },
   "kernels_config": {
    "python": {
     "delete_cmd_postfix": "",
     "delete_cmd_prefix": "del ",
     "library": "var_list.py",
     "varRefreshCmd": "print(var_dic_list())"
    },
    "r": {
     "delete_cmd_postfix": ") ",
     "delete_cmd_prefix": "rm(",
     "library": "var_list.r",
     "varRefreshCmd": "cat(var_dic_list()) "
    }
   },
   "types_to_exclude": [
    "module",
    "function",
    "builtin_function_or_method",
    "instance",
    "_Feature"
   ],
   "window_display": false
  }
 },
 "nbformat": 4,
 "nbformat_minor": 4
}
